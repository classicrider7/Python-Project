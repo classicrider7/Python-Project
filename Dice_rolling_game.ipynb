{
  "nbformat": 4,
  "nbformat_minor": 0,
  "metadata": {
    "colab": {
      "name": "Dice rolling game.ipynb",
      "provenance": [],
      "authorship_tag": "ABX9TyOIBCZKDGOI62VtGFWgiQlj",
      "include_colab_link": true
    },
    "kernelspec": {
      "name": "python3",
      "display_name": "Python 3"
    },
    "language_info": {
      "name": "python"
    }
  },
  "cells": [
    {
      "cell_type": "markdown",
      "metadata": {
        "id": "view-in-github",
        "colab_type": "text"
      },
      "source": [
        "<a href=\"https://colab.research.google.com/github/classicrider7/Python-Project/blob/main/Dice_rolling_game.ipynb\" target=\"_parent\"><img src=\"https://colab.research.google.com/assets/colab-badge.svg\" alt=\"Open In Colab\"/></a>"
      ]
    },
    {
      "cell_type": "code",
      "metadata": {
        "id": "HVqNmcedv-aE",
        "colab": {
          "base_uri": "https://localhost:8080/"
        },
        "outputId": "a8ccfda6-fb15-4314-93d6-c49f07e7b1b7"
      },
      "source": [
        "import random\n",
        "print(\"Welcome to the game of Dice\")\n",
        "while(1):\n",
        "  choice = input(\"Press 1 to play \\n Press 2 to exit\")\n",
        "  if choice == \"2\":\n",
        "    print(\"User Quit\")\n",
        "    break\n",
        "  elif choice == \"1\":\n",
        "    num = random.randint(1,6)\n",
        "    print(\"You have\",num,\"in your dice !\")\n",
        "  else:\n",
        "    print(\"Invalid Input by user !\")\n",
        "    print(\"Game over\")\n",
        "    break"
      ],
      "execution_count": 5,
      "outputs": [
        {
          "output_type": "stream",
          "name": "stdout",
          "text": [
            "Welcome to the game of Dice\n",
            "Press 1 to play \n",
            " Press 2 to exit1\n",
            "You have 4 in your dice !\n",
            "Press 1 to play \n",
            " Press 2 to exit1\n",
            "You have 4 in your dice !\n",
            "Press 1 to play \n",
            " Press 2 to exit7\n",
            "Invalid Input by user !\n",
            "Game over\n"
          ]
        }
      ]
    },
    {
      "cell_type": "code",
      "source": [
        ""
      ],
      "metadata": {
        "id": "_UHpnYMYoxq1"
      },
      "execution_count": 5,
      "outputs": []
    },
    {
      "cell_type": "code",
      "source": [
        ""
      ],
      "metadata": {
        "id": "_PodsE3ao70o"
      },
      "execution_count": 4,
      "outputs": []
    }
  ]
}