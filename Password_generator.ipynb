{
  "nbformat": 4,
  "nbformat_minor": 0,
  "metadata": {
    "colab": {
      "name": "Password generator.ipynb",
      "provenance": [],
      "authorship_tag": "ABX9TyM1THAHfzYeE3M+EfWIuFE5",
      "include_colab_link": true
    },
    "kernelspec": {
      "name": "python3",
      "display_name": "Python 3"
    },
    "language_info": {
      "name": "python"
    }
  },
  "cells": [
    {
      "cell_type": "markdown",
      "metadata": {
        "id": "view-in-github",
        "colab_type": "text"
      },
      "source": [
        "<a href=\"https://colab.research.google.com/github/classicrider7/Python-Project/blob/main/Password_generator.ipynb\" target=\"_parent\"><img src=\"https://colab.research.google.com/assets/colab-badge.svg\" alt=\"Open In Colab\"/></a>"
      ]
    },
    {
      "cell_type": "code",
      "metadata": {
        "colab": {
          "base_uri": "https://localhost:8080/"
        },
        "id": "BFbGl6WUpYly",
        "outputId": "83c44b96-8244-4fc0-b9d7-9a782d33979f"
      },
      "source": [
        "#importing modules\n",
        "import random\n",
        "import string\n",
        "\n",
        "print(\"Welcome to password generator\")\n",
        "# def random_password_generator():\n",
        "while(1):\n",
        "  \n",
        "  #asking user for the length of the password\n",
        "  length = int(input(\"Enter the lenth of the password you want !!\"))\n",
        "\n",
        "  #using string module to get lowercase,uppercase,digits,symbols\n",
        "  lowercase_data = string.ascii_lowercase\n",
        "  uppercase_data = string.ascii_uppercase\n",
        "  digits = string.digits\n",
        "  special_char = string.punctuation\n",
        "\n",
        "  #combining all the data\n",
        "  combine_data = lowercase_data+uppercase_data+digits+special_char\n",
        "\n",
        "  #creating the password with random module\n",
        "  inital_password = random.sample(combine_data,length)\n",
        "\n",
        "  #convert the password into string because before this password is stored in list\n",
        "  password = \"\".join(inital_password)\n",
        "  print(password)\n",
        "\n",
        "  #after getting one password as output program is given choice to the user\n",
        "\n",
        "  option = int(input(\"Enter the choice 1 or 2 \\n 1.Need more password \\n 2.Exit\"))\n",
        "  if option ==2:\n",
        "    break\n"
      ],
      "execution_count": 1,
      "outputs": [
        {
          "name": "stdout",
          "output_type": "stream",
          "text": [
            "Welcome to password generator\n",
            "Enter the lenth of the password you want !!10\n",
            "CTW,zxH5sS\n",
            "Enter the choice 1 or 2 \n",
            " 1.Need more password \n",
            " 2.Exit1\n",
            "Enter the lenth of the password you want !!6\n",
            "]ThG>!\n",
            "Enter the choice 1 or 2 \n",
            " 1.Need more password \n",
            " 2.Exit1\n",
            "Enter the lenth of the password you want !!7\n",
            "{qGj0R5\n",
            "Enter the choice 1 or 2 \n",
            " 1.Need more password \n",
            " 2.Exit2\n"
          ]
        }
      ]
    }
  ]
}